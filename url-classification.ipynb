{
 "cells": [
  {
   "cell_type": "code",
   "execution_count": 18,
   "id": "0886e52a",
   "metadata": {
    "_cell_guid": "b1076dfc-b9ad-4769-8c92-a6c4dae69d19",
    "_uuid": "8f2839f25d086af736a60e9eeb907d3b93b6e0e5",
    "execution": {
     "iopub.execute_input": "2024-04-27T09:25:48.030906Z",
     "iopub.status.busy": "2024-04-27T09:25:48.030404Z",
     "iopub.status.idle": "2024-04-27T09:25:51.288076Z",
     "shell.execute_reply": "2024-04-27T09:25:51.286716Z"
    },
    "papermill": {
     "duration": 3.275222,
     "end_time": "2024-04-27T09:25:51.291128",
     "exception": false,
     "start_time": "2024-04-27T09:25:48.015906",
     "status": "completed"
    },
    "tags": []
   },
   "outputs": [],
   "source": [
    "import pandas as pd\n",
    "import matplotlib.pyplot as plt\n",
    "import numpy as np\n",
    "import seaborn as sns\n",
    "from sklearn.model_selection import train_test_split\n",
    "from sklearn.ensemble import RandomForestClassifier\n",
    "from sklearn.neighbors import KNeighborsClassifier\n",
    "from sklearn.tree import DecisionTreeClassifier\n",
    "from sklearn.ensemble import AdaBoostClassifier\n",
    "from sklearn.ensemble import ExtraTreesClassifier\n",
    "import xgboost as xgb\n",
    "from sklearn.metrics import precision_score, recall_score, f1_score, accuracy_score\n",
    "from sklearn.metrics import confusion_matrix\n",
    "from tld import get_tld, is_tld\n",
    "from urllib.parse import urlparse\n",
    "import re\n",
    "import string"
   ]
  },
  {
   "cell_type": "code",
   "execution_count": 19,
   "id": "dd9dbb2b",
   "metadata": {
    "execution": {
     "iopub.execute_input": "2024-04-27T09:25:51.318409Z",
     "iopub.status.busy": "2024-04-27T09:25:51.317715Z",
     "iopub.status.idle": "2024-04-27T09:25:53.360269Z",
     "shell.execute_reply": "2024-04-27T09:25:53.358112Z"
    },
    "papermill": {
     "duration": 2.059901,
     "end_time": "2024-04-27T09:25:53.363702",
     "exception": false,
     "start_time": "2024-04-27T09:25:51.303801",
     "status": "completed"
    },
    "tags": []
   },
   "outputs": [],
   "source": [
    "data = pd.read_csv(r\"C:\\Users\\S Sri Hari\\OneDrive\\Desktop\\datascience\\archive (1)\\malicious_phish.csv\")"
   ]
  },
  {
   "cell_type": "code",
   "execution_count": 20,
   "id": "a410b3b9",
   "metadata": {
    "execution": {
     "iopub.execute_input": "2024-04-27T09:25:53.391618Z",
     "iopub.status.busy": "2024-04-27T09:25:53.391145Z",
     "iopub.status.idle": "2024-04-27T09:25:53.418994Z",
     "shell.execute_reply": "2024-04-27T09:25:53.417908Z"
    },
    "papermill": {
     "duration": 0.044932,
     "end_time": "2024-04-27T09:25:53.421548",
     "exception": false,
     "start_time": "2024-04-27T09:25:53.376616",
     "status": "completed"
    },
    "tags": []
   },
   "outputs": [
    {
     "data": {
      "text/html": [
       "<div>\n",
       "<style scoped>\n",
       "    .dataframe tbody tr th:only-of-type {\n",
       "        vertical-align: middle;\n",
       "    }\n",
       "\n",
       "    .dataframe tbody tr th {\n",
       "        vertical-align: top;\n",
       "    }\n",
       "\n",
       "    .dataframe thead th {\n",
       "        text-align: right;\n",
       "    }\n",
       "</style>\n",
       "<table border=\"1\" class=\"dataframe\">\n",
       "  <thead>\n",
       "    <tr style=\"text-align: right;\">\n",
       "      <th></th>\n",
       "      <th>url</th>\n",
       "      <th>type</th>\n",
       "    </tr>\n",
       "  </thead>\n",
       "  <tbody>\n",
       "    <tr>\n",
       "      <th>0</th>\n",
       "      <td>br-icloud.com.br</td>\n",
       "      <td>phishing</td>\n",
       "    </tr>\n",
       "    <tr>\n",
       "      <th>1</th>\n",
       "      <td>mp3raid.com/music/krizz_kaliko.html</td>\n",
       "      <td>benign</td>\n",
       "    </tr>\n",
       "    <tr>\n",
       "      <th>2</th>\n",
       "      <td>bopsecrets.org/rexroth/cr/1.htm</td>\n",
       "      <td>benign</td>\n",
       "    </tr>\n",
       "    <tr>\n",
       "      <th>3</th>\n",
       "      <td>http://www.garage-pirenne.be/index.php?option=...</td>\n",
       "      <td>defacement</td>\n",
       "    </tr>\n",
       "    <tr>\n",
       "      <th>4</th>\n",
       "      <td>http://adventure-nicaragua.net/index.php?optio...</td>\n",
       "      <td>defacement</td>\n",
       "    </tr>\n",
       "    <tr>\n",
       "      <th>...</th>\n",
       "      <td>...</td>\n",
       "      <td>...</td>\n",
       "    </tr>\n",
       "    <tr>\n",
       "      <th>651186</th>\n",
       "      <td>xbox360.ign.com/objects/850/850402.html</td>\n",
       "      <td>phishing</td>\n",
       "    </tr>\n",
       "    <tr>\n",
       "      <th>651187</th>\n",
       "      <td>games.teamxbox.com/xbox-360/1860/Dead-Space/</td>\n",
       "      <td>phishing</td>\n",
       "    </tr>\n",
       "    <tr>\n",
       "      <th>651188</th>\n",
       "      <td>www.gamespot.com/xbox360/action/deadspace/</td>\n",
       "      <td>phishing</td>\n",
       "    </tr>\n",
       "    <tr>\n",
       "      <th>651189</th>\n",
       "      <td>en.wikipedia.org/wiki/Dead_Space_(video_game)</td>\n",
       "      <td>phishing</td>\n",
       "    </tr>\n",
       "    <tr>\n",
       "      <th>651190</th>\n",
       "      <td>www.angelfire.com/goth/devilmaycrytonite/</td>\n",
       "      <td>phishing</td>\n",
       "    </tr>\n",
       "  </tbody>\n",
       "</table>\n",
       "<p>651191 rows × 2 columns</p>\n",
       "</div>"
      ],
      "text/plain": [
       "                                                      url        type\n",
       "0                                        br-icloud.com.br    phishing\n",
       "1                     mp3raid.com/music/krizz_kaliko.html      benign\n",
       "2                         bopsecrets.org/rexroth/cr/1.htm      benign\n",
       "3       http://www.garage-pirenne.be/index.php?option=...  defacement\n",
       "4       http://adventure-nicaragua.net/index.php?optio...  defacement\n",
       "...                                                   ...         ...\n",
       "651186            xbox360.ign.com/objects/850/850402.html    phishing\n",
       "651187       games.teamxbox.com/xbox-360/1860/Dead-Space/    phishing\n",
       "651188         www.gamespot.com/xbox360/action/deadspace/    phishing\n",
       "651189      en.wikipedia.org/wiki/Dead_Space_(video_game)    phishing\n",
       "651190          www.angelfire.com/goth/devilmaycrytonite/    phishing\n",
       "\n",
       "[651191 rows x 2 columns]"
      ]
     },
     "execution_count": 20,
     "metadata": {},
     "output_type": "execute_result"
    }
   ],
   "source": [
    "data"
   ]
  },
  {
   "cell_type": "code",
   "execution_count": 21,
   "id": "37d793a5",
   "metadata": {
    "execution": {
     "iopub.execute_input": "2024-04-27T09:25:53.449086Z",
     "iopub.status.busy": "2024-04-27T09:25:53.448657Z",
     "iopub.status.idle": "2024-04-27T09:25:53.615924Z",
     "shell.execute_reply": "2024-04-27T09:25:53.614571Z"
    },
    "papermill": {
     "duration": 0.184274,
     "end_time": "2024-04-27T09:25:53.618708",
     "exception": false,
     "start_time": "2024-04-27T09:25:53.434434",
     "status": "completed"
    },
    "tags": []
   },
   "outputs": [
    {
     "name": "stdout",
     "output_type": "stream",
     "text": [
      "<class 'pandas.core.frame.DataFrame'>\n",
      "RangeIndex: 651191 entries, 0 to 651190\n",
      "Data columns (total 2 columns):\n",
      " #   Column  Non-Null Count   Dtype \n",
      "---  ------  --------------   ----- \n",
      " 0   url     651191 non-null  object\n",
      " 1   type    651191 non-null  object\n",
      "dtypes: object(2)\n",
      "memory usage: 9.9+ MB\n"
     ]
    }
   ],
   "source": [
    "data.info()"
   ]
  },
  {
   "cell_type": "code",
   "execution_count": 22,
   "id": "757153b7",
   "metadata": {
    "execution": {
     "iopub.execute_input": "2024-04-27T09:25:53.646714Z",
     "iopub.status.busy": "2024-04-27T09:25:53.646201Z",
     "iopub.status.idle": "2024-04-27T09:25:53.717320Z",
     "shell.execute_reply": "2024-04-27T09:25:53.715975Z"
    },
    "papermill": {
     "duration": 0.088038,
     "end_time": "2024-04-27T09:25:53.719797",
     "exception": false,
     "start_time": "2024-04-27T09:25:53.631759",
     "status": "completed"
    },
    "tags": []
   },
   "outputs": [
    {
     "data": {
      "text/plain": [
       "array(['phishing', 'benign', 'defacement', 'malware'], dtype=object)"
      ]
     },
     "execution_count": 22,
     "metadata": {},
     "output_type": "execute_result"
    }
   ],
   "source": [
    "data[\"type\"].unique()"
   ]
  },
  {
   "cell_type": "code",
   "execution_count": 23,
   "id": "ba9cb497",
   "metadata": {
    "execution": {
     "iopub.execute_input": "2024-04-27T09:25:53.749436Z",
     "iopub.status.busy": "2024-04-27T09:25:53.748948Z",
     "iopub.status.idle": "2024-04-27T09:25:53.862907Z",
     "shell.execute_reply": "2024-04-27T09:25:53.861524Z"
    },
    "papermill": {
     "duration": 0.131459,
     "end_time": "2024-04-27T09:25:53.865610",
     "exception": false,
     "start_time": "2024-04-27T09:25:53.734151",
     "status": "completed"
    },
    "tags": []
   },
   "outputs": [],
   "source": [
    "class_dist = data[\"type\"].value_counts()"
   ]
  },
  {
   "cell_type": "code",
   "execution_count": 24,
   "id": "1c436dcd",
   "metadata": {
    "execution": {
     "iopub.execute_input": "2024-04-27T09:25:53.894336Z",
     "iopub.status.busy": "2024-04-27T09:25:53.893906Z",
     "iopub.status.idle": "2024-04-27T09:25:54.204315Z",
     "shell.execute_reply": "2024-04-27T09:25:54.203077Z"
    },
    "papermill": {
     "duration": 0.328249,
     "end_time": "2024-04-27T09:25:54.206933",
     "exception": false,
     "start_time": "2024-04-27T09:25:53.878684",
     "status": "completed"
    },
    "tags": []
   },
   "outputs": [
    {
     "data": {
      "text/plain": [
       "<Axes: xlabel='type'>"
      ]
     },
     "execution_count": 24,
     "metadata": {},
     "output_type": "execute_result"
    },
    {
     "data": {
      "image/png": "[encoded data removed]",
      "text/plain": [
       "<Figure size 640x480 with 1 Axes>"
      ]
     },
     "metadata": {},
     "output_type": "display_data"
    }
   ],
   "source": [
    "sns.barplot(x=class_dist.index, y = class_dist.values)"
   ]
  },
  {
   "cell_type": "code",
   "execution_count": 25,
   "id": "92d9e631",
   "metadata": {
    "execution": {
     "iopub.execute_input": "2024-04-27T09:25:54.236747Z",
     "iopub.status.busy": "2024-04-27T09:25:54.236254Z",
     "iopub.status.idle": "2024-04-27T09:25:54.250414Z",
     "shell.execute_reply": "2024-04-27T09:25:54.249277Z"
    },
    "papermill": {
     "duration": 0.031808,
     "end_time": "2024-04-27T09:25:54.252779",
     "exception": false,
     "start_time": "2024-04-27T09:25:54.220971",
     "status": "completed"
    },
    "tags": []
   },
   "outputs": [
    {
     "data": {
      "text/html": [
       "<div>\n",
       "<style scoped>\n",
       "    .dataframe tbody tr th:only-of-type {\n",
       "        vertical-align: middle;\n",
       "    }\n",
       "\n",
       "    .dataframe tbody tr th {\n",
       "        vertical-align: top;\n",
       "    }\n",
       "\n",
       "    .dataframe thead th {\n",
       "        text-align: right;\n",
       "    }\n",
       "</style>\n",
       "<table border=\"1\" class=\"dataframe\">\n",
       "  <thead>\n",
       "    <tr style=\"text-align: right;\">\n",
       "      <th></th>\n",
       "      <th>url</th>\n",
       "      <th>type</th>\n",
       "    </tr>\n",
       "  </thead>\n",
       "  <tbody>\n",
       "    <tr>\n",
       "      <th>0</th>\n",
       "      <td>br-icloud.com.br</td>\n",
       "      <td>phishing</td>\n",
       "    </tr>\n",
       "    <tr>\n",
       "      <th>1</th>\n",
       "      <td>mp3raid.com/music/krizz_kaliko.html</td>\n",
       "      <td>benign</td>\n",
       "    </tr>\n",
       "    <tr>\n",
       "      <th>2</th>\n",
       "      <td>bopsecrets.org/rexroth/cr/1.htm</td>\n",
       "      <td>benign</td>\n",
       "    </tr>\n",
       "    <tr>\n",
       "      <th>3</th>\n",
       "      <td>http://www.garage-pirenne.be/index.php?option=...</td>\n",
       "      <td>defacement</td>\n",
       "    </tr>\n",
       "    <tr>\n",
       "      <th>4</th>\n",
       "      <td>http://adventure-nicaragua.net/index.php?optio...</td>\n",
       "      <td>defacement</td>\n",
       "    </tr>\n",
       "    <tr>\n",
       "      <th>...</th>\n",
       "      <td>...</td>\n",
       "      <td>...</td>\n",
       "    </tr>\n",
       "    <tr>\n",
       "      <th>651186</th>\n",
       "      <td>xbox360.ign.com/objects/850/850402.html</td>\n",
       "      <td>phishing</td>\n",
       "    </tr>\n",
       "    <tr>\n",
       "      <th>651187</th>\n",
       "      <td>games.teamxbox.com/xbox-360/1860/Dead-Space/</td>\n",
       "      <td>phishing</td>\n",
       "    </tr>\n",
       "    <tr>\n",
       "      <th>651188</th>\n",
       "      <td>www.gamespot.com/xbox360/action/deadspace/</td>\n",
       "      <td>phishing</td>\n",
       "    </tr>\n",
       "    <tr>\n",
       "      <th>651189</th>\n",
       "      <td>en.wikipedia.org/wiki/Dead_Space_(video_game)</td>\n",
       "      <td>phishing</td>\n",
       "    </tr>\n",
       "    <tr>\n",
       "      <th>651190</th>\n",
       "      <td>www.angelfire.com/goth/devilmaycrytonite/</td>\n",
       "      <td>phishing</td>\n",
       "    </tr>\n",
       "  </tbody>\n",
       "</table>\n",
       "<p>651191 rows × 2 columns</p>\n",
       "</div>"
      ],
      "text/plain": [
       "                                                      url        type\n",
       "0                                        br-icloud.com.br    phishing\n",
       "1                     mp3raid.com/music/krizz_kaliko.html      benign\n",
       "2                         bopsecrets.org/rexroth/cr/1.htm      benign\n",
       "3       http://www.garage-pirenne.be/index.php?option=...  defacement\n",
       "4       http://adventure-nicaragua.net/index.php?optio...  defacement\n",
       "...                                                   ...         ...\n",
       "651186            xbox360.ign.com/objects/850/850402.html    phishing\n",
       "651187       games.teamxbox.com/xbox-360/1860/Dead-Space/    phishing\n",
       "651188         www.gamespot.com/xbox360/action/deadspace/    phishing\n",
       "651189      en.wikipedia.org/wiki/Dead_Space_(video_game)    phishing\n",
       "651190          www.angelfire.com/goth/devilmaycrytonite/    phishing\n",
       "\n",
       "[651191 rows x 2 columns]"
      ]
     },
     "execution_count": 25,
     "metadata": {},
     "output_type": "execute_result"
    }
   ],
   "source": [
    "data"
   ]
  },
  {
   "cell_type": "code",
   "execution_count": 26,
   "id": "ea5006f1",
   "metadata": {
    "execution": {
     "iopub.execute_input": "2024-04-27T09:25:54.283753Z",
     "iopub.status.busy": "2024-04-27T09:25:54.282563Z",
     "iopub.status.idle": "2024-04-27T09:25:55.760008Z",
     "shell.execute_reply": "2024-04-27T09:25:55.757932Z"
    },
    "papermill": {
     "duration": 1.49551,
     "end_time": "2024-04-27T09:25:55.762480",
     "exception": false,
     "start_time": "2024-04-27T09:25:54.266970",
     "status": "completed"
    },
    "tags": []
   },
   "outputs": [
    {
     "name": "stderr",
     "output_type": "stream",
     "text": [
      "C:\\Users\\S Sri Hari\\AppData\\Local\\Temp\\ipykernel_25312\\1838422671.py:7: FutureWarning: Downcasting behavior in `replace` is deprecated and will be removed in a future version. To retain the old behavior, explicitly call `result.infer_objects(copy=False)`. To opt-in to the future behavior, set `pd.set_option('future.no_silent_downcasting', True)`\n",
      "  data = data.replace(rem)\n"
     ]
    }
   ],
   "source": [
    "# remove www. from the url\n",
    "data['url'] = data['url'].replace('www.', '', regex=True)\n",
    "\n",
    "# add class column\n",
    "rem = {\"Class\": {\"benign\": 0, \"defacement\": 1, \"phishing\": 1, \"malware\":1}}\n",
    "data['Class'] = data[\"type\"]\n",
    "data = data.replace(rem)"
   ]
  },
  {
   "cell_type": "code",
   "execution_count": 27,
   "id": "832c0fbe",
   "metadata": {
    "execution": {
     "iopub.execute_input": "2024-04-27T09:25:55.793385Z",
     "iopub.status.busy": "2024-04-27T09:25:55.792170Z",
     "iopub.status.idle": "2024-04-27T09:25:55.805740Z",
     "shell.execute_reply": "2024-04-27T09:25:55.804579Z"
    },
    "papermill": {
     "duration": 0.031754,
     "end_time": "2024-04-27T09:25:55.808296",
     "exception": false,
     "start_time": "2024-04-27T09:25:55.776542",
     "status": "completed"
    },
    "tags": []
   },
   "outputs": [
    {
     "data": {
      "text/html": [
       "<div>\n",
       "<style scoped>\n",
       "    .dataframe tbody tr th:only-of-type {\n",
       "        vertical-align: middle;\n",
       "    }\n",
       "\n",
       "    .dataframe tbody tr th {\n",
       "        vertical-align: top;\n",
       "    }\n",
       "\n",
       "    .dataframe thead th {\n",
       "        text-align: right;\n",
       "    }\n",
       "</style>\n",
       "<table border=\"1\" class=\"dataframe\">\n",
       "  <thead>\n",
       "    <tr style=\"text-align: right;\">\n",
       "      <th></th>\n",
       "      <th>url</th>\n",
       "      <th>type</th>\n",
       "      <th>Class</th>\n",
       "    </tr>\n",
       "  </thead>\n",
       "  <tbody>\n",
       "    <tr>\n",
       "      <th>0</th>\n",
       "      <td>br-icloud.com.br</td>\n",
       "      <td>phishing</td>\n",
       "      <td>1</td>\n",
       "    </tr>\n",
       "    <tr>\n",
       "      <th>1</th>\n",
       "      <td>mp3raid.com/music/krizz_kaliko.html</td>\n",
       "      <td>benign</td>\n",
       "      <td>0</td>\n",
       "    </tr>\n",
       "    <tr>\n",
       "      <th>2</th>\n",
       "      <td>bopsecrets.org/rexroth/cr/1.htm</td>\n",
       "      <td>benign</td>\n",
       "      <td>0</td>\n",
       "    </tr>\n",
       "    <tr>\n",
       "      <th>3</th>\n",
       "      <td>http://garage-pirenne.be/index.php?option=com_...</td>\n",
       "      <td>defacement</td>\n",
       "      <td>1</td>\n",
       "    </tr>\n",
       "    <tr>\n",
       "      <th>4</th>\n",
       "      <td>http://adventure-nicaragua.net/index.php?optio...</td>\n",
       "      <td>defacement</td>\n",
       "      <td>1</td>\n",
       "    </tr>\n",
       "    <tr>\n",
       "      <th>...</th>\n",
       "      <td>...</td>\n",
       "      <td>...</td>\n",
       "      <td>...</td>\n",
       "    </tr>\n",
       "    <tr>\n",
       "      <th>651186</th>\n",
       "      <td>xbox360.ign.com/objects/850/850402.html</td>\n",
       "      <td>phishing</td>\n",
       "      <td>1</td>\n",
       "    </tr>\n",
       "    <tr>\n",
       "      <th>651187</th>\n",
       "      <td>games.teamxbox.com/xbox-360/1860/Dead-Space/</td>\n",
       "      <td>phishing</td>\n",
       "      <td>1</td>\n",
       "    </tr>\n",
       "    <tr>\n",
       "      <th>651188</th>\n",
       "      <td>gamespot.com/xbox360/action/deadspace/</td>\n",
       "      <td>phishing</td>\n",
       "      <td>1</td>\n",
       "    </tr>\n",
       "    <tr>\n",
       "      <th>651189</th>\n",
       "      <td>en.wikipedia.org/wiki/Dead_Space_(video_game)</td>\n",
       "      <td>phishing</td>\n",
       "      <td>1</td>\n",
       "    </tr>\n",
       "    <tr>\n",
       "      <th>651190</th>\n",
       "      <td>angelfire.com/goth/devilmaycrytonite/</td>\n",
       "      <td>phishing</td>\n",
       "      <td>1</td>\n",
       "    </tr>\n",
       "  </tbody>\n",
       "</table>\n",
       "<p>651191 rows × 3 columns</p>\n",
       "</div>"
      ],
      "text/plain": [
       "                                                      url        type  Class\n",
       "0                                        br-icloud.com.br    phishing      1\n",
       "1                     mp3raid.com/music/krizz_kaliko.html      benign      0\n",
       "2                         bopsecrets.org/rexroth/cr/1.htm      benign      0\n",
       "3       http://garage-pirenne.be/index.php?option=com_...  defacement      1\n",
       "4       http://adventure-nicaragua.net/index.php?optio...  defacement      1\n",
       "...                                                   ...         ...    ...\n",
       "651186            xbox360.ign.com/objects/850/850402.html    phishing      1\n",
       "651187       games.teamxbox.com/xbox-360/1860/Dead-Space/    phishing      1\n",
       "651188             gamespot.com/xbox360/action/deadspace/    phishing      1\n",
       "651189      en.wikipedia.org/wiki/Dead_Space_(video_game)    phishing      1\n",
       "651190              angelfire.com/goth/devilmaycrytonite/    phishing      1\n",
       "\n",
       "[651191 rows x 3 columns]"
      ]
     },
     "execution_count": 27,
     "metadata": {},
     "output_type": "execute_result"
    }
   ],
   "source": [
    "data"
   ]
  },
  {
   "cell_type": "code",
   "execution_count": 28,
   "id": "2f17c39c",
   "metadata": {
    "execution": {
     "iopub.execute_input": "2024-04-27T09:25:55.839887Z",
     "iopub.status.busy": "2024-04-27T09:25:55.838672Z",
     "iopub.status.idle": "2024-04-27T09:25:55.855113Z",
     "shell.execute_reply": "2024-04-27T09:25:55.853760Z"
    },
    "papermill": {
     "duration": 0.034893,
     "end_time": "2024-04-27T09:25:55.857650",
     "exception": false,
     "start_time": "2024-04-27T09:25:55.822757",
     "status": "completed"
    },
    "tags": []
   },
   "outputs": [],
   "source": [
    "def pri_domain(url):\n",
    "    \n",
    "    try:\n",
    "        res = get_tld(url, as_object = True, fail_silently=False,fix_protocol=True)\n",
    "        pri_domain= res.parsed_url.netloc\n",
    "    except:\n",
    "        pri_domain = None\n",
    "\n",
    "    return pri_domain\n",
    "\n",
    "def abnormal_url(url):\n",
    "    hostname = str(urlparse(url).hostname)\n",
    "    match = re.search(hostname, url)\n",
    "    if match:\n",
    "        return 1\n",
    "    else:\n",
    "        return 0\n",
    "\n",
    "def httpSecure(url):\n",
    "    htp = urlparse(url).scheme\n",
    "    if str(htp)=='https':\n",
    "        return 1\n",
    "    else:\n",
    "        return 0\n",
    "\n",
    "def digit_count(url):\n",
    "    digits = 0\n",
    "    for ch in url:\n",
    "        if ch.isnumeric():\n",
    "            digits = digits + 1\n",
    "    return digits\n",
    "\n",
    "def special_count(url):\n",
    "    special_chars = set(string.punctuation)\n",
    "    num_special_chars = sum(char in special_chars for char in url)\n",
    "    return num_special_chars\n",
    "\n",
    "def letter_count(url):\n",
    "    num_letters = sum(char.isalpha() for char in url)\n",
    "    return num_letters\n",
    "\n",
    "def URL_Shortening(url):\n",
    "    match = re.search('bit\\.ly|goo\\.gl|shorte\\.st|go2l\\.ink|x\\.co|ow\\.ly|t\\.co|tinyurl|tr\\.im|is\\.gd|cli\\.gs|'\n",
    "                      'yfrog\\.com|migre\\.me|ff\\.im|tiny\\.cc|url4\\.eu|twit\\.ac|su\\.pr|twurl\\.nl|snipurl\\.com|'\n",
    "                      'short\\.to|BudURL\\.com|ping\\.fm|post\\.ly|Just\\.as|bkite\\.com|snipr\\.com|fic\\.kr|loopt\\.us|'\n",
    "                      'doiop\\.com|short\\.ie|kl\\.am|wp\\.me|rubyurl\\.com|om\\.ly|to\\.ly|bit\\.do|t\\.co|lnkd\\.in|'\n",
    "                      'db\\.tt|qr\\.ae|adf\\.ly|goo\\.gl|bitly\\.com|cur\\.lv|tinyurl\\.com|ow\\.ly|bit\\.ly|ity\\.im|'\n",
    "                      'q\\.gs|is\\.gd|po\\.st|bc\\.vc|twitthis\\.com|u\\.to|j\\.mp|buzurl\\.com|cutt\\.us|u\\.bb|yourls\\.org|'\n",
    "                      'x\\.co|prettylinkpro\\.com|scrnch\\.me|filoops\\.info|vzturl\\.com|qr\\.net|1url\\.com|tweez\\.me|v\\.gd|'\n",
    "                      'tr\\.im|link\\.zip\\.net',\n",
    "                      url)\n",
    "    if match:\n",
    "        return 1\n",
    "    else:\n",
    "        return 0\n",
    "    \n",
    "def having_ip(url):\n",
    "    match = re.search(\n",
    "        '(([01]?\\\\d\\\\d?|2[0-4]\\\\d|25[0-5])\\\\.([01]?\\\\d\\\\d?|2[0-4]\\\\d|25[0-5])\\\\.([01]?\\\\d\\\\d?|2[0-4]\\\\d|25[0-5])\\\\.'\n",
    "        '([01]?\\\\d\\\\d?|2[0-4]\\\\d|25[0-5])\\\\/)|'  # IPv4\n",
    "        '(([01]?\\\\d\\\\d?|2[0-4]\\\\d|25[0-5])\\\\.([01]?\\\\d\\\\d?|2[0-4]\\\\d|25[0-5])\\\\.([01]?\\\\d\\\\d?|2[0-4]\\\\d|25[0-5])\\\\.'\n",
    "        '([01]?\\\\d\\\\d?|2[0-4]\\\\d|25[0-5])\\\\/)|'  # IPv4 with port\n",
    "        '((0x[0-9a-fA-F]{1,2})\\\\.(0x[0-9a-fA-F]{1,2})\\\\.(0x[0-9a-fA-F]{1,2})\\\\.(0x[0-9a-fA-F]{1,2})\\\\/)' # IPv4 in hexadecimal\n",
    "        '(?:[a-fA-F0-9]{1,4}:){7}[a-fA-F0-9]{1,4}|'\n",
    "        '([0-9]+(?:\\.[0-9]+){3}:[0-9]+)|'\n",
    "        '((?:(?:\\d|[01]?\\d\\d|2[0-4]\\d|25[0-5])\\.){3}(?:25[0-5]|2[0-4]\\d|[01]?\\d\\d|\\d)(?:\\/\\d{1,2})?)', url)  # Ipv6\n",
    "    if match:\n",
    "        return 1\n",
    "    else:\n",
    "        return 0\n",
    "    \n",
    "# feature = ['@','?','-','=','.','#','%','+','$','!','*',',','//']\n",
    "# for a in feature:\n",
    "#     data[a] = data['url'].apply(lambda i: i.count(a))\n",
    "    \n",
    "# data['pri_domain'] = data['url'].apply(lambda x: pri_domain(x))\n",
    "# data['abnormal_url'] = data['url'].apply(lambda x: abnormal_url(x))\n",
    "# data['httpSecure'] = data['url'].apply(lambda x: httpSecure(x))\n",
    "# data['digits'] = data['url'].apply(lambda x: digit_count(x))\n",
    "# data['special_chars'] = data['url'].apply(lambda x: special_count(x))\n",
    "# data['letter_count'] = data['url'].apply(lambda x: letter_count(x))\n",
    "# data['url_shortend'] = data['url'].apply(lambda x: URL_Shortening(x))\n",
    "# data['have_ip'] = data['url'].apply(lambda x : having_ip(x))\n",
    "\n",
    "# X_train, X_test, y_train, y_test = train_test_split(X, y, test_size=0.2)\n",
    "\n",
    "# model = RandomForestClassifier()\n",
    "# model.fit(X_train, y_train)\n",
    "# predict = model.predict(X_test)\n",
    "# score = accuracy_score(predict, y_test)"
   ]
  },
  {
   "cell_type": "code",
   "execution_count": 30,
   "id": "35ecc15e",
   "metadata": {
    "execution": {
     "iopub.execute_input": "2024-04-27T09:25:55.929951Z",
     "iopub.status.busy": "2024-04-27T09:25:55.929164Z",
     "iopub.status.idle": "2024-04-27T09:27:51.797031Z",
     "shell.execute_reply": "2024-04-27T09:27:51.795577Z"
    },
    "papermill": {
     "duration": 115.886888,
     "end_time": "2024-04-27T09:27:51.800300",
     "exception": false,
     "start_time": "2024-04-27T09:25:55.913412",
     "status": "completed"
    },
    "tags": []
   },
   "outputs": [],
   "source": [
    "feature = ['@','?','-','=','.','#','%','+','$','!','*',',','//']\n",
    "for a in feature:\n",
    "    data[a] = data['url'].apply(lambda i: i.count(a))\n",
    "    \n",
    "data['pri_domain'] = data['url'].apply(lambda x: pri_domain(x))\n",
    "data['abnormal_url'] = data['url'].apply(lambda x: abnormal_url(x))\n",
    "data['httpSecure'] = data['url'].apply(lambda x: httpSecure(x))\n",
    "data['digits'] = data['url'].apply(lambda x: digit_count(x))\n",
    "data['special_chars'] = data['url'].apply(lambda x: special_count(x))\n",
    "data['letter_count'] = data['url'].apply(lambda x: letter_count(x))\n",
    "data['url_shortend'] = data['url'].apply(lambda x: URL_Shortening(x))\n",
    "data['have_ip'] = data['url'].apply(lambda x : having_ip(x))"
   ]
  },
  {
   "cell_type": "code",
   "execution_count": 31,
   "id": "27b6241a",
   "metadata": {
    "execution": {
     "iopub.execute_input": "2024-04-27T09:27:51.831982Z",
     "iopub.status.busy": "2024-04-27T09:27:51.831464Z",
     "iopub.status.idle": "2024-04-27T09:27:52.111162Z",
     "shell.execute_reply": "2024-04-27T09:27:52.109894Z"
    },
    "papermill": {
     "duration": 0.298477,
     "end_time": "2024-04-27T09:27:52.113854",
     "exception": false,
     "start_time": "2024-04-27T09:27:51.815377",
     "status": "completed"
    },
    "tags": []
   },
   "outputs": [
    {
     "data": {
      "text/plain": [
       "<Axes: xlabel='abnormal_url', ylabel='count'>"
      ]
     },
     "execution_count": 31,
     "metadata": {},
     "output_type": "execute_result"
    },
    {
     "data": {
      "image/png": "[encoded data removed]",
      "text/plain": [
       "<Figure size 640x480 with 1 Axes>"
      ]
     },
     "metadata": {},
     "output_type": "display_data"
    }
   ],
   "source": [
    "sns.countplot(x='abnormal_url', data=data)"
   ]
  },
  {
   "cell_type": "code",
   "execution_count": 32,
   "id": "ddd23733",
   "metadata": {
    "execution": {
     "iopub.execute_input": "2024-04-27T09:27:52.145888Z",
     "iopub.status.busy": "2024-04-27T09:27:52.145007Z",
     "iopub.status.idle": "2024-04-27T09:27:52.430085Z",
     "shell.execute_reply": "2024-04-27T09:27:52.429097Z"
    },
    "papermill": {
     "duration": 0.303723,
     "end_time": "2024-04-27T09:27:52.432364",
     "exception": false,
     "start_time": "2024-04-27T09:27:52.128641",
     "status": "completed"
    },
    "tags": []
   },
   "outputs": [
    {
     "data": {
      "text/plain": [
       "<Axes: xlabel='httpSecure', ylabel='count'>"
      ]
     },
     "execution_count": 32,
     "metadata": {},
     "output_type": "execute_result"
    },
    {
     "data": {
      "image/png": "[encoded data removed]",
      "text/plain": [
       "<Figure size 640x480 with 1 Axes>"
      ]
     },
     "metadata": {},
     "output_type": "display_data"
    }
   ],
   "source": [
    "sns.countplot(x='httpSecure', data=data)"
   ]
  },
  {
   "cell_type": "code",
   "execution_count": 33,
   "id": "6afdae9f",
   "metadata": {
    "execution": {
     "iopub.execute_input": "2024-04-27T09:27:52.465610Z",
     "iopub.status.busy": "2024-04-27T09:27:52.464877Z",
     "iopub.status.idle": "2024-04-27T09:27:52.741171Z",
     "shell.execute_reply": "2024-04-27T09:27:52.739938Z"
    },
    "papermill": {
     "duration": 0.296042,
     "end_time": "2024-04-27T09:27:52.744011",
     "exception": false,
     "start_time": "2024-04-27T09:27:52.447969",
     "status": "completed"
    },
    "tags": []
   },
   "outputs": [
    {
     "data": {
      "text/plain": [
       "<Axes: xlabel='url_shortend', ylabel='count'>"
      ]
     },
     "execution_count": 33,
     "metadata": {},
     "output_type": "execute_result"
    },
    {
     "data": {
      "image/png": "[encoded data removed]",
      "text/plain": [
       "<Figure size 640x480 with 1 Axes>"
      ]
     },
     "metadata": {},
     "output_type": "display_data"
    }
   ],
   "source": [
    "sns.countplot(x='url_shortend', data=data)"
   ]
  },
  {
   "cell_type": "code",
   "execution_count": 34,
   "id": "5a2765d8",
   "metadata": {
    "execution": {
     "iopub.execute_input": "2024-04-27T09:27:52.779341Z",
     "iopub.status.busy": "2024-04-27T09:27:52.778086Z",
     "iopub.status.idle": "2024-04-27T09:27:53.060799Z",
     "shell.execute_reply": "2024-04-27T09:27:53.059598Z"
    },
    "papermill": {
     "duration": 0.302974,
     "end_time": "2024-04-27T09:27:53.063512",
     "exception": false,
     "start_time": "2024-04-27T09:27:52.760538",
     "status": "completed"
    },
    "tags": []
   },
   "outputs": [
    {
     "data": {
      "text/plain": [
       "<Axes: xlabel='have_ip', ylabel='count'>"
      ]
     },
     "execution_count": 34,
     "metadata": {},
     "output_type": "execute_result"
    },
    {
     "data": {
      "image/png": "[encoded data removed]",
      "text/plain": [
       "<Figure size 640x480 with 1 Axes>"
      ]
     },
     "metadata": {},
     "output_type": "display_data"
    }
   ],
   "source": [
    "sns.countplot(x='have_ip', data=data)"
   ]
  },
  {
   "cell_type": "code",
   "execution_count": 35,
   "id": "6340bcb3",
   "metadata": {
    "execution": {
     "iopub.execute_input": "2024-04-27T09:27:53.098902Z",
     "iopub.status.busy": "2024-04-27T09:27:53.097637Z",
     "iopub.status.idle": "2024-04-27T09:27:53.194977Z",
     "shell.execute_reply": "2024-04-27T09:27:53.193730Z"
    },
    "papermill": {
     "duration": 0.118202,
     "end_time": "2024-04-27T09:27:53.197840",
     "exception": false,
     "start_time": "2024-04-27T09:27:53.079638",
     "status": "completed"
    },
    "tags": []
   },
   "outputs": [],
   "source": [
    "X = data.drop(['url', 'type', 'Class', 'pri_domain'], axis=1)"
   ]
  },
  {
   "cell_type": "code",
   "execution_count": 36,
   "id": "fec06997",
   "metadata": {
    "execution": {
     "iopub.execute_input": "2024-04-27T09:27:53.232488Z",
     "iopub.status.busy": "2024-04-27T09:27:53.232023Z",
     "iopub.status.idle": "2024-04-27T09:27:53.237238Z",
     "shell.execute_reply": "2024-04-27T09:27:53.236080Z"
    },
    "papermill": {
     "duration": 0.025143,
     "end_time": "2024-04-27T09:27:53.239425",
     "exception": false,
     "start_time": "2024-04-27T09:27:53.214282",
     "status": "completed"
    },
    "tags": []
   },
   "outputs": [],
   "source": [
    "y = data[\"Class\"]"
   ]
  },
  {
   "cell_type": "code",
   "execution_count": 37,
   "id": "406b5392",
   "metadata": {
    "execution": {
     "iopub.execute_input": "2024-04-27T09:27:53.275555Z",
     "iopub.status.busy": "2024-04-27T09:27:53.274269Z",
     "iopub.status.idle": "2024-04-27T09:27:53.298615Z",
     "shell.execute_reply": "2024-04-27T09:27:53.297314Z"
    },
    "papermill": {
     "duration": 0.045265,
     "end_time": "2024-04-27T09:27:53.301601",
     "exception": false,
     "start_time": "2024-04-27T09:27:53.256336",
     "status": "completed"
    },
    "tags": []
   },
   "outputs": [
    {
     "data": {
      "text/html": [
       "<div>\n",
       "<style scoped>\n",
       "    .dataframe tbody tr th:only-of-type {\n",
       "        vertical-align: middle;\n",
       "    }\n",
       "\n",
       "    .dataframe tbody tr th {\n",
       "        vertical-align: top;\n",
       "    }\n",
       "\n",
       "    .dataframe thead th {\n",
       "        text-align: right;\n",
       "    }\n",
       "</style>\n",
       "<table border=\"1\" class=\"dataframe\">\n",
       "  <thead>\n",
       "    <tr style=\"text-align: right;\">\n",
       "      <th></th>\n",
       "      <th>@</th>\n",
       "      <th>?</th>\n",
       "      <th>-</th>\n",
       "      <th>=</th>\n",
       "      <th>.</th>\n",
       "      <th>#</th>\n",
       "      <th>%</th>\n",
       "      <th>+</th>\n",
       "      <th>$</th>\n",
       "      <th>!</th>\n",
       "      <th>*</th>\n",
       "      <th>,</th>\n",
       "      <th>//</th>\n",
       "      <th>abnormal_url</th>\n",
       "      <th>httpSecure</th>\n",
       "      <th>digits</th>\n",
       "      <th>special_chars</th>\n",
       "      <th>letter_count</th>\n",
       "      <th>url_shortend</th>\n",
       "      <th>have_ip</th>\n",
       "    </tr>\n",
       "  </thead>\n",
       "  <tbody>\n",
       "    <tr>\n",
       "      <th>0</th>\n",
       "      <td>0</td>\n",
       "      <td>0</td>\n",
       "      <td>1</td>\n",
       "      <td>0</td>\n",
       "      <td>2</td>\n",
       "      <td>0</td>\n",
       "      <td>0</td>\n",
       "      <td>0</td>\n",
       "      <td>0</td>\n",
       "      <td>0</td>\n",
       "      <td>0</td>\n",
       "      <td>0</td>\n",
       "      <td>0</td>\n",
       "      <td>0</td>\n",
       "      <td>0</td>\n",
       "      <td>0</td>\n",
       "      <td>3</td>\n",
       "      <td>13</td>\n",
       "      <td>0</td>\n",
       "      <td>0</td>\n",
       "    </tr>\n",
       "    <tr>\n",
       "      <th>1</th>\n",
       "      <td>0</td>\n",
       "      <td>0</td>\n",
       "      <td>0</td>\n",
       "      <td>0</td>\n",
       "      <td>2</td>\n",
       "      <td>0</td>\n",
       "      <td>0</td>\n",
       "      <td>0</td>\n",
       "      <td>0</td>\n",
       "      <td>0</td>\n",
       "      <td>0</td>\n",
       "      <td>0</td>\n",
       "      <td>0</td>\n",
       "      <td>0</td>\n",
       "      <td>0</td>\n",
       "      <td>1</td>\n",
       "      <td>5</td>\n",
       "      <td>29</td>\n",
       "      <td>0</td>\n",
       "      <td>0</td>\n",
       "    </tr>\n",
       "    <tr>\n",
       "      <th>2</th>\n",
       "      <td>0</td>\n",
       "      <td>0</td>\n",
       "      <td>0</td>\n",
       "      <td>0</td>\n",
       "      <td>2</td>\n",
       "      <td>0</td>\n",
       "      <td>0</td>\n",
       "      <td>0</td>\n",
       "      <td>0</td>\n",
       "      <td>0</td>\n",
       "      <td>0</td>\n",
       "      <td>0</td>\n",
       "      <td>0</td>\n",
       "      <td>0</td>\n",
       "      <td>0</td>\n",
       "      <td>1</td>\n",
       "      <td>5</td>\n",
       "      <td>25</td>\n",
       "      <td>0</td>\n",
       "      <td>0</td>\n",
       "    </tr>\n",
       "    <tr>\n",
       "      <th>3</th>\n",
       "      <td>0</td>\n",
       "      <td>1</td>\n",
       "      <td>1</td>\n",
       "      <td>4</td>\n",
       "      <td>2</td>\n",
       "      <td>0</td>\n",
       "      <td>0</td>\n",
       "      <td>0</td>\n",
       "      <td>0</td>\n",
       "      <td>0</td>\n",
       "      <td>0</td>\n",
       "      <td>0</td>\n",
       "      <td>1</td>\n",
       "      <td>1</td>\n",
       "      <td>0</td>\n",
       "      <td>7</td>\n",
       "      <td>17</td>\n",
       "      <td>60</td>\n",
       "      <td>0</td>\n",
       "      <td>0</td>\n",
       "    </tr>\n",
       "    <tr>\n",
       "      <th>4</th>\n",
       "      <td>0</td>\n",
       "      <td>1</td>\n",
       "      <td>1</td>\n",
       "      <td>3</td>\n",
       "      <td>2</td>\n",
       "      <td>0</td>\n",
       "      <td>0</td>\n",
       "      <td>0</td>\n",
       "      <td>0</td>\n",
       "      <td>0</td>\n",
       "      <td>0</td>\n",
       "      <td>0</td>\n",
       "      <td>1</td>\n",
       "      <td>1</td>\n",
       "      <td>0</td>\n",
       "      <td>22</td>\n",
       "      <td>14</td>\n",
       "      <td>199</td>\n",
       "      <td>0</td>\n",
       "      <td>0</td>\n",
       "    </tr>\n",
       "    <tr>\n",
       "      <th>...</th>\n",
       "      <td>...</td>\n",
       "      <td>...</td>\n",
       "      <td>...</td>\n",
       "      <td>...</td>\n",
       "      <td>...</td>\n",
       "      <td>...</td>\n",
       "      <td>...</td>\n",
       "      <td>...</td>\n",
       "      <td>...</td>\n",
       "      <td>...</td>\n",
       "      <td>...</td>\n",
       "      <td>...</td>\n",
       "      <td>...</td>\n",
       "      <td>...</td>\n",
       "      <td>...</td>\n",
       "      <td>...</td>\n",
       "      <td>...</td>\n",
       "      <td>...</td>\n",
       "      <td>...</td>\n",
       "      <td>...</td>\n",
       "    </tr>\n",
       "    <tr>\n",
       "      <th>651186</th>\n",
       "      <td>0</td>\n",
       "      <td>0</td>\n",
       "      <td>0</td>\n",
       "      <td>0</td>\n",
       "      <td>3</td>\n",
       "      <td>0</td>\n",
       "      <td>0</td>\n",
       "      <td>0</td>\n",
       "      <td>0</td>\n",
       "      <td>0</td>\n",
       "      <td>0</td>\n",
       "      <td>0</td>\n",
       "      <td>0</td>\n",
       "      <td>0</td>\n",
       "      <td>0</td>\n",
       "      <td>12</td>\n",
       "      <td>6</td>\n",
       "      <td>21</td>\n",
       "      <td>0</td>\n",
       "      <td>0</td>\n",
       "    </tr>\n",
       "    <tr>\n",
       "      <th>651187</th>\n",
       "      <td>0</td>\n",
       "      <td>0</td>\n",
       "      <td>2</td>\n",
       "      <td>0</td>\n",
       "      <td>2</td>\n",
       "      <td>0</td>\n",
       "      <td>0</td>\n",
       "      <td>0</td>\n",
       "      <td>0</td>\n",
       "      <td>0</td>\n",
       "      <td>0</td>\n",
       "      <td>0</td>\n",
       "      <td>0</td>\n",
       "      <td>0</td>\n",
       "      <td>0</td>\n",
       "      <td>7</td>\n",
       "      <td>8</td>\n",
       "      <td>29</td>\n",
       "      <td>1</td>\n",
       "      <td>0</td>\n",
       "    </tr>\n",
       "    <tr>\n",
       "      <th>651188</th>\n",
       "      <td>0</td>\n",
       "      <td>0</td>\n",
       "      <td>0</td>\n",
       "      <td>0</td>\n",
       "      <td>1</td>\n",
       "      <td>0</td>\n",
       "      <td>0</td>\n",
       "      <td>0</td>\n",
       "      <td>0</td>\n",
       "      <td>0</td>\n",
       "      <td>0</td>\n",
       "      <td>0</td>\n",
       "      <td>0</td>\n",
       "      <td>0</td>\n",
       "      <td>0</td>\n",
       "      <td>3</td>\n",
       "      <td>5</td>\n",
       "      <td>30</td>\n",
       "      <td>1</td>\n",
       "      <td>0</td>\n",
       "    </tr>\n",
       "    <tr>\n",
       "      <th>651189</th>\n",
       "      <td>0</td>\n",
       "      <td>0</td>\n",
       "      <td>0</td>\n",
       "      <td>0</td>\n",
       "      <td>2</td>\n",
       "      <td>0</td>\n",
       "      <td>0</td>\n",
       "      <td>0</td>\n",
       "      <td>0</td>\n",
       "      <td>0</td>\n",
       "      <td>0</td>\n",
       "      <td>0</td>\n",
       "      <td>0</td>\n",
       "      <td>0</td>\n",
       "      <td>0</td>\n",
       "      <td>0</td>\n",
       "      <td>9</td>\n",
       "      <td>36</td>\n",
       "      <td>0</td>\n",
       "      <td>0</td>\n",
       "    </tr>\n",
       "    <tr>\n",
       "      <th>651190</th>\n",
       "      <td>0</td>\n",
       "      <td>0</td>\n",
       "      <td>0</td>\n",
       "      <td>0</td>\n",
       "      <td>1</td>\n",
       "      <td>0</td>\n",
       "      <td>0</td>\n",
       "      <td>0</td>\n",
       "      <td>0</td>\n",
       "      <td>0</td>\n",
       "      <td>0</td>\n",
       "      <td>0</td>\n",
       "      <td>0</td>\n",
       "      <td>0</td>\n",
       "      <td>0</td>\n",
       "      <td>0</td>\n",
       "      <td>4</td>\n",
       "      <td>33</td>\n",
       "      <td>0</td>\n",
       "      <td>0</td>\n",
       "    </tr>\n",
       "  </tbody>\n",
       "</table>\n",
       "<p>651191 rows × 20 columns</p>\n",
       "</div>"
      ],
      "text/plain": [
       "        @  ?  -  =  .  #  %  +  $  !  *  ,  //  abnormal_url  httpSecure  \\\n",
       "0       0  0  1  0  2  0  0  0  0  0  0  0   0             0           0   \n",
       "1       0  0  0  0  2  0  0  0  0  0  0  0   0             0           0   \n",
       "2       0  0  0  0  2  0  0  0  0  0  0  0   0             0           0   \n",
       "3       0  1  1  4  2  0  0  0  0  0  0  0   1             1           0   \n",
       "4       0  1  1  3  2  0  0  0  0  0  0  0   1             1           0   \n",
       "...    .. .. .. .. .. .. .. .. .. .. .. ..  ..           ...         ...   \n",
       "651186  0  0  0  0  3  0  0  0  0  0  0  0   0             0           0   \n",
       "651187  0  0  2  0  2  0  0  0  0  0  0  0   0             0           0   \n",
       "651188  0  0  0  0  1  0  0  0  0  0  0  0   0             0           0   \n",
       "651189  0  0  0  0  2  0  0  0  0  0  0  0   0             0           0   \n",
       "651190  0  0  0  0  1  0  0  0  0  0  0  0   0             0           0   \n",
       "\n",
       "        digits  special_chars  letter_count  url_shortend  have_ip  \n",
       "0            0              3            13             0        0  \n",
       "1            1              5            29             0        0  \n",
       "2            1              5            25             0        0  \n",
       "3            7             17            60             0        0  \n",
       "4           22             14           199             0        0  \n",
       "...        ...            ...           ...           ...      ...  \n",
       "651186      12              6            21             0        0  \n",
       "651187       7              8            29             1        0  \n",
       "651188       3              5            30             1        0  \n",
       "651189       0              9            36             0        0  \n",
       "651190       0              4            33             0        0  \n",
       "\n",
       "[651191 rows x 20 columns]"
      ]
     },
     "execution_count": 37,
     "metadata": {},
     "output_type": "execute_result"
    }
   ],
   "source": [
    "X"
   ]
  },
  {
   "cell_type": "code",
   "execution_count": 38,
   "id": "8f01743b",
   "metadata": {
    "execution": {
     "iopub.execute_input": "2024-04-27T09:27:53.338247Z",
     "iopub.status.busy": "2024-04-27T09:27:53.336952Z",
     "iopub.status.idle": "2024-04-27T09:27:53.780234Z",
     "shell.execute_reply": "2024-04-27T09:27:53.778964Z"
    },
    "papermill": {
     "duration": 0.46469,
     "end_time": "2024-04-27T09:27:53.783428",
     "exception": false,
     "start_time": "2024-04-27T09:27:53.318738",
     "status": "completed"
    },
    "tags": []
   },
   "outputs": [],
   "source": [
    "X_train, X_test, y_train, y_test = train_test_split(X, y, test_size=0.2)"
   ]
  },
  {
   "cell_type": "code",
   "execution_count": 39,
   "id": "dc1d24e4",
   "metadata": {
    "execution": {
     "iopub.execute_input": "2024-04-27T09:27:53.820156Z",
     "iopub.status.busy": "2024-04-27T09:27:53.819666Z",
     "iopub.status.idle": "2024-04-27T09:27:54.607682Z",
     "shell.execute_reply": "2024-04-27T09:27:54.606417Z"
    },
    "papermill": {
     "duration": 0.810133,
     "end_time": "2024-04-27T09:27:54.610685",
     "exception": false,
     "start_time": "2024-04-27T09:27:53.800552",
     "status": "completed"
    },
    "tags": []
   },
   "outputs": [
    {
     "data": {
      "text/html": [
       "<div>\n",
       "<style scoped>\n",
       "    .dataframe tbody tr th:only-of-type {\n",
       "        vertical-align: middle;\n",
       "    }\n",
       "\n",
       "    .dataframe tbody tr th {\n",
       "        vertical-align: top;\n",
       "    }\n",
       "\n",
       "    .dataframe thead th {\n",
       "        text-align: right;\n",
       "    }\n",
       "</style>\n",
       "<table border=\"1\" class=\"dataframe\">\n",
       "  <thead>\n",
       "    <tr style=\"text-align: right;\">\n",
       "      <th></th>\n",
       "      <th>url</th>\n",
       "      <th>type</th>\n",
       "      <th>Class</th>\n",
       "      <th>@</th>\n",
       "      <th>?</th>\n",
       "      <th>-</th>\n",
       "      <th>=</th>\n",
       "      <th>.</th>\n",
       "      <th>#</th>\n",
       "      <th>%</th>\n",
       "      <th>...</th>\n",
       "      <th>,</th>\n",
       "      <th>//</th>\n",
       "      <th>pri_domain</th>\n",
       "      <th>abnormal_url</th>\n",
       "      <th>httpSecure</th>\n",
       "      <th>digits</th>\n",
       "      <th>special_chars</th>\n",
       "      <th>letter_count</th>\n",
       "      <th>url_shortend</th>\n",
       "      <th>have_ip</th>\n",
       "    </tr>\n",
       "  </thead>\n",
       "  <tbody>\n",
       "    <tr>\n",
       "      <th>0</th>\n",
       "      <td>br-icloud.com.br</td>\n",
       "      <td>phishing</td>\n",
       "      <td>1</td>\n",
       "      <td>0</td>\n",
       "      <td>0</td>\n",
       "      <td>1</td>\n",
       "      <td>0</td>\n",
       "      <td>2</td>\n",
       "      <td>0</td>\n",
       "      <td>0</td>\n",
       "      <td>...</td>\n",
       "      <td>0</td>\n",
       "      <td>0</td>\n",
       "      <td>br-icloud.com.br</td>\n",
       "      <td>0</td>\n",
       "      <td>0</td>\n",
       "      <td>0</td>\n",
       "      <td>3</td>\n",
       "      <td>13</td>\n",
       "      <td>0</td>\n",
       "      <td>0</td>\n",
       "    </tr>\n",
       "    <tr>\n",
       "      <th>1</th>\n",
       "      <td>mp3raid.com/music/krizz_kaliko.html</td>\n",
       "      <td>benign</td>\n",
       "      <td>0</td>\n",
       "      <td>0</td>\n",
       "      <td>0</td>\n",
       "      <td>0</td>\n",
       "      <td>0</td>\n",
       "      <td>2</td>\n",
       "      <td>0</td>\n",
       "      <td>0</td>\n",
       "      <td>...</td>\n",
       "      <td>0</td>\n",
       "      <td>0</td>\n",
       "      <td>mp3raid.com</td>\n",
       "      <td>0</td>\n",
       "      <td>0</td>\n",
       "      <td>1</td>\n",
       "      <td>5</td>\n",
       "      <td>29</td>\n",
       "      <td>0</td>\n",
       "      <td>0</td>\n",
       "    </tr>\n",
       "    <tr>\n",
       "      <th>2</th>\n",
       "      <td>bopsecrets.org/rexroth/cr/1.htm</td>\n",
       "      <td>benign</td>\n",
       "      <td>0</td>\n",
       "      <td>0</td>\n",
       "      <td>0</td>\n",
       "      <td>0</td>\n",
       "      <td>0</td>\n",
       "      <td>2</td>\n",
       "      <td>0</td>\n",
       "      <td>0</td>\n",
       "      <td>...</td>\n",
       "      <td>0</td>\n",
       "      <td>0</td>\n",
       "      <td>bopsecrets.org</td>\n",
       "      <td>0</td>\n",
       "      <td>0</td>\n",
       "      <td>1</td>\n",
       "      <td>5</td>\n",
       "      <td>25</td>\n",
       "      <td>0</td>\n",
       "      <td>0</td>\n",
       "    </tr>\n",
       "    <tr>\n",
       "      <th>3</th>\n",
       "      <td>http://garage-pirenne.be/index.php?option=com_...</td>\n",
       "      <td>defacement</td>\n",
       "      <td>1</td>\n",
       "      <td>0</td>\n",
       "      <td>1</td>\n",
       "      <td>1</td>\n",
       "      <td>4</td>\n",
       "      <td>2</td>\n",
       "      <td>0</td>\n",
       "      <td>0</td>\n",
       "      <td>...</td>\n",
       "      <td>0</td>\n",
       "      <td>1</td>\n",
       "      <td>garage-pirenne.be</td>\n",
       "      <td>1</td>\n",
       "      <td>0</td>\n",
       "      <td>7</td>\n",
       "      <td>17</td>\n",
       "      <td>60</td>\n",
       "      <td>0</td>\n",
       "      <td>0</td>\n",
       "    </tr>\n",
       "    <tr>\n",
       "      <th>4</th>\n",
       "      <td>http://adventure-nicaragua.net/index.php?optio...</td>\n",
       "      <td>defacement</td>\n",
       "      <td>1</td>\n",
       "      <td>0</td>\n",
       "      <td>1</td>\n",
       "      <td>1</td>\n",
       "      <td>3</td>\n",
       "      <td>2</td>\n",
       "      <td>0</td>\n",
       "      <td>0</td>\n",
       "      <td>...</td>\n",
       "      <td>0</td>\n",
       "      <td>1</td>\n",
       "      <td>adventure-nicaragua.net</td>\n",
       "      <td>1</td>\n",
       "      <td>0</td>\n",
       "      <td>22</td>\n",
       "      <td>14</td>\n",
       "      <td>199</td>\n",
       "      <td>0</td>\n",
       "      <td>0</td>\n",
       "    </tr>\n",
       "    <tr>\n",
       "      <th>...</th>\n",
       "      <td>...</td>\n",
       "      <td>...</td>\n",
       "      <td>...</td>\n",
       "      <td>...</td>\n",
       "      <td>...</td>\n",
       "      <td>...</td>\n",
       "      <td>...</td>\n",
       "      <td>...</td>\n",
       "      <td>...</td>\n",
       "      <td>...</td>\n",
       "      <td>...</td>\n",
       "      <td>...</td>\n",
       "      <td>...</td>\n",
       "      <td>...</td>\n",
       "      <td>...</td>\n",
       "      <td>...</td>\n",
       "      <td>...</td>\n",
       "      <td>...</td>\n",
       "      <td>...</td>\n",
       "      <td>...</td>\n",
       "      <td>...</td>\n",
       "    </tr>\n",
       "    <tr>\n",
       "      <th>651186</th>\n",
       "      <td>xbox360.ign.com/objects/850/850402.html</td>\n",
       "      <td>phishing</td>\n",
       "      <td>1</td>\n",
       "      <td>0</td>\n",
       "      <td>0</td>\n",
       "      <td>0</td>\n",
       "      <td>0</td>\n",
       "      <td>3</td>\n",
       "      <td>0</td>\n",
       "      <td>0</td>\n",
       "      <td>...</td>\n",
       "      <td>0</td>\n",
       "      <td>0</td>\n",
       "      <td>xbox360.ign.com</td>\n",
       "      <td>0</td>\n",
       "      <td>0</td>\n",
       "      <td>12</td>\n",
       "      <td>6</td>\n",
       "      <td>21</td>\n",
       "      <td>0</td>\n",
       "      <td>0</td>\n",
       "    </tr>\n",
       "    <tr>\n",
       "      <th>651187</th>\n",
       "      <td>games.teamxbox.com/xbox-360/1860/Dead-Space/</td>\n",
       "      <td>phishing</td>\n",
       "      <td>1</td>\n",
       "      <td>0</td>\n",
       "      <td>0</td>\n",
       "      <td>2</td>\n",
       "      <td>0</td>\n",
       "      <td>2</td>\n",
       "      <td>0</td>\n",
       "      <td>0</td>\n",
       "      <td>...</td>\n",
       "      <td>0</td>\n",
       "      <td>0</td>\n",
       "      <td>games.teamxbox.com</td>\n",
       "      <td>0</td>\n",
       "      <td>0</td>\n",
       "      <td>7</td>\n",
       "      <td>8</td>\n",
       "      <td>29</td>\n",
       "      <td>1</td>\n",
       "      <td>0</td>\n",
       "    </tr>\n",
       "    <tr>\n",
       "      <th>651188</th>\n",
       "      <td>gamespot.com/xbox360/action/deadspace/</td>\n",
       "      <td>phishing</td>\n",
       "      <td>1</td>\n",
       "      <td>0</td>\n",
       "      <td>0</td>\n",
       "      <td>0</td>\n",
       "      <td>0</td>\n",
       "      <td>1</td>\n",
       "      <td>0</td>\n",
       "      <td>0</td>\n",
       "      <td>...</td>\n",
       "      <td>0</td>\n",
       "      <td>0</td>\n",
       "      <td>gamespot.com</td>\n",
       "      <td>0</td>\n",
       "      <td>0</td>\n",
       "      <td>3</td>\n",
       "      <td>5</td>\n",
       "      <td>30</td>\n",
       "      <td>1</td>\n",
       "      <td>0</td>\n",
       "    </tr>\n",
       "    <tr>\n",
       "      <th>651189</th>\n",
       "      <td>en.wikipedia.org/wiki/Dead_Space_(video_game)</td>\n",
       "      <td>phishing</td>\n",
       "      <td>1</td>\n",
       "      <td>0</td>\n",
       "      <td>0</td>\n",
       "      <td>0</td>\n",
       "      <td>0</td>\n",
       "      <td>2</td>\n",
       "      <td>0</td>\n",
       "      <td>0</td>\n",
       "      <td>...</td>\n",
       "      <td>0</td>\n",
       "      <td>0</td>\n",
       "      <td>en.wikipedia.org</td>\n",
       "      <td>0</td>\n",
       "      <td>0</td>\n",
       "      <td>0</td>\n",
       "      <td>9</td>\n",
       "      <td>36</td>\n",
       "      <td>0</td>\n",
       "      <td>0</td>\n",
       "    </tr>\n",
       "    <tr>\n",
       "      <th>651190</th>\n",
       "      <td>angelfire.com/goth/devilmaycrytonite/</td>\n",
       "      <td>phishing</td>\n",
       "      <td>1</td>\n",
       "      <td>0</td>\n",
       "      <td>0</td>\n",
       "      <td>0</td>\n",
       "      <td>0</td>\n",
       "      <td>1</td>\n",
       "      <td>0</td>\n",
       "      <td>0</td>\n",
       "      <td>...</td>\n",
       "      <td>0</td>\n",
       "      <td>0</td>\n",
       "      <td>angelfire.com</td>\n",
       "      <td>0</td>\n",
       "      <td>0</td>\n",
       "      <td>0</td>\n",
       "      <td>4</td>\n",
       "      <td>33</td>\n",
       "      <td>0</td>\n",
       "      <td>0</td>\n",
       "    </tr>\n",
       "  </tbody>\n",
       "</table>\n",
       "<p>651191 rows × 24 columns</p>\n",
       "</div>"
      ],
      "text/plain": [
       "                                                      url        type  Class  \\\n",
       "0                                        br-icloud.com.br    phishing      1   \n",
       "1                     mp3raid.com/music/krizz_kaliko.html      benign      0   \n",
       "2                         bopsecrets.org/rexroth/cr/1.htm      benign      0   \n",
       "3       http://garage-pirenne.be/index.php?option=com_...  defacement      1   \n",
       "4       http://adventure-nicaragua.net/index.php?optio...  defacement      1   \n",
       "...                                                   ...         ...    ...   \n",
       "651186            xbox360.ign.com/objects/850/850402.html    phishing      1   \n",
       "651187       games.teamxbox.com/xbox-360/1860/Dead-Space/    phishing      1   \n",
       "651188             gamespot.com/xbox360/action/deadspace/    phishing      1   \n",
       "651189      en.wikipedia.org/wiki/Dead_Space_(video_game)    phishing      1   \n",
       "651190              angelfire.com/goth/devilmaycrytonite/    phishing      1   \n",
       "\n",
       "        @  ?  -  =  .  #  %  ...  ,  //               pri_domain  \\\n",
       "0       0  0  1  0  2  0  0  ...  0   0         br-icloud.com.br   \n",
       "1       0  0  0  0  2  0  0  ...  0   0              mp3raid.com   \n",
       "2       0  0  0  0  2  0  0  ...  0   0           bopsecrets.org   \n",
       "3       0  1  1  4  2  0  0  ...  0   1        garage-pirenne.be   \n",
       "4       0  1  1  3  2  0  0  ...  0   1  adventure-nicaragua.net   \n",
       "...    .. .. .. .. .. .. ..  ... ..  ..                      ...   \n",
       "651186  0  0  0  0  3  0  0  ...  0   0          xbox360.ign.com   \n",
       "651187  0  0  2  0  2  0  0  ...  0   0       games.teamxbox.com   \n",
       "651188  0  0  0  0  1  0  0  ...  0   0             gamespot.com   \n",
       "651189  0  0  0  0  2  0  0  ...  0   0         en.wikipedia.org   \n",
       "651190  0  0  0  0  1  0  0  ...  0   0            angelfire.com   \n",
       "\n",
       "        abnormal_url  httpSecure  digits special_chars  letter_count  \\\n",
       "0                  0           0       0             3            13   \n",
       "1                  0           0       1             5            29   \n",
       "2                  0           0       1             5            25   \n",
       "3                  1           0       7            17            60   \n",
       "4                  1           0      22            14           199   \n",
       "...              ...         ...     ...           ...           ...   \n",
       "651186             0           0      12             6            21   \n",
       "651187             0           0       7             8            29   \n",
       "651188             0           0       3             5            30   \n",
       "651189             0           0       0             9            36   \n",
       "651190             0           0       0             4            33   \n",
       "\n",
       "        url_shortend  have_ip  \n",
       "0                  0        0  \n",
       "1                  0        0  \n",
       "2                  0        0  \n",
       "3                  0        0  \n",
       "4                  0        0  \n",
       "...              ...      ...  \n",
       "651186             0        0  \n",
       "651187             1        0  \n",
       "651188             1        0  \n",
       "651189             0        0  \n",
       "651190             0        0  \n",
       "\n",
       "[651191 rows x 24 columns]"
      ]
     },
     "execution_count": 39,
     "metadata": {},
     "output_type": "execute_result"
    }
   ],
   "source": [
    "data"
   ]
  },
  {
   "cell_type": "code",
   "execution_count": 40,
   "id": "3633a0db",
   "metadata": {
    "execution": {
     "iopub.execute_input": "2024-04-27T09:27:54.649375Z",
     "iopub.status.busy": "2024-04-27T09:27:54.648373Z",
     "iopub.status.idle": "2024-04-27T09:27:54.665175Z",
     "shell.execute_reply": "2024-04-27T09:27:54.664088Z"
    },
    "papermill": {
     "duration": 0.039103,
     "end_time": "2024-04-27T09:27:54.667636",
     "exception": false,
     "start_time": "2024-04-27T09:27:54.628533",
     "status": "completed"
    },
    "tags": []
   },
   "outputs": [
    {
     "data": {
      "text/plain": [
       "<Figure size 500x400 with 0 Axes>"
      ]
     },
     "metadata": {},
     "output_type": "display_data"
    }
   ],
   "source": [
    "plt.figure(figsize=(5, 4))\n",
    "f1_scores = []\n",
    "def train_model(model_list):\n",
    "    for m in model_list:\n",
    "        model = m['model']\n",
    "        \n",
    "        print(\"\\nModel Name: \\033[1m{} \\033[0m \\n\".format(m['model_name']))\n",
    "        model.fit(X_train, y_train)\n",
    "        predict = model.predict(X_test)\n",
    "        \n",
    "        accuracy = accuracy_score(predict, y_test)\n",
    "        precision = precision_score(y_test, predict, average='weighted')\n",
    "        recall = recall_score(y_test, predict, average='weighted')\n",
    "        f1score = f1_score(y_test, predict, average='weighted')\n",
    "        \n",
    "        print(\"Evaluation Scores\\n\")\n",
    "        print(\"Precision:\\033[32m \\033[1m {:.3f} \\033[0m \\033[0m\".format(precision))\n",
    "        print(\"Recall:\\033[32m \\033[1m {:.3f} \\033[0m \\033[0m\".format(recall))\n",
    "        print(\"Accuracy:\\033[32m \\033[1m {:.3f} \\033[0m \\033[0m\".format(accuracy))\n",
    "        print(\"F1score:\\033[32m \\033[1m {:.3f} \\033[0m \\033[0m\".format(f1score))      \n",
    "        \n",
    "        print(\"\\n\\033[1mModel Confusion Matrix \\033[0m \\n\")\n",
    "        \n",
    "        cm = confusion_matrix(y_test, predict)\n",
    "        \n",
    "        sns.heatmap(cm, annot=True, fmt='d', cmap=\"viridis\", \n",
    "            xticklabels=['Benign', 'Malicious'],\n",
    "            yticklabels=['Benign', 'Malicious'])\n",
    "        plt.show()\n",
    "        \n",
    "        f1_scores.append(f1score)\n",
    "        \n",
    "        print(\"#\"*70)"
   ]
  },
  {
   "cell_type": "code",
   "execution_count": 41,
   "id": "7f50cf90",
   "metadata": {
    "execution": {
     "iopub.execute_input": "2024-04-27T09:27:54.705406Z",
     "iopub.status.busy": "2024-04-27T09:27:54.704948Z",
     "iopub.status.idle": "2024-04-27T09:27:54.711372Z",
     "shell.execute_reply": "2024-04-27T09:27:54.710238Z"
    },
    "papermill": {
     "duration": 0.028246,
     "end_time": "2024-04-27T09:27:54.713783",
     "exception": false,
     "start_time": "2024-04-27T09:27:54.685537",
     "status": "completed"
    },
    "tags": []
   },
   "outputs": [],
   "source": [
    "model_list = [{'model_name' : m, 'model' : model} \\\n",
    "              for (m, model) in zip(['RandomForestClassifier', 'DecisionTreeClassifier', 'XGBClassifier', 'ExtraTreesClassifier'], \\\n",
    "                                    [RandomForestClassifier(), DecisionTreeClassifier(), xgb.XGBClassifier(), ExtraTreesClassifier()])]"
   ]
  },
  {
   "cell_type": "code",
   "execution_count": 42,
   "id": "fe61256f",
   "metadata": {
    "execution": {
     "iopub.execute_input": "2024-04-27T09:27:54.751881Z",
     "iopub.status.busy": "2024-04-27T09:27:54.751330Z",
     "iopub.status.idle": "2024-04-27T09:33:03.079372Z",
     "shell.execute_reply": "2024-04-27T09:33:03.078180Z"
    },
    "papermill": {
     "duration": 308.351006,
     "end_time": "2024-04-27T09:33:03.082582",
     "exception": false,
     "start_time": "2024-04-27T09:27:54.731576",
     "status": "completed"
    },
    "tags": []
   },
   "outputs": [
    {
     "name": "stdout",
     "output_type": "stream",
     "text": [
      "\n",
      "Model Name: \u001b[1mRandomForestClassifier \u001b[0m \n",
      "\n",
      "Evaluation Scores\n",
      "\n",
      "Precision:\u001b[32m \u001b[1m 0.933 \u001b[0m \u001b[0m\n",
      "Recall:\u001b[32m \u001b[1m 0.932 \u001b[0m \u001b[0m\n",
      "Accuracy:\u001b[32m \u001b[1m 0.932 \u001b[0m \u001b[0m\n",
      "F1score:\u001b[32m \u001b[1m 0.931 \u001b[0m \u001b[0m\n",
      "\n",
      "\u001b[1mModel Confusion Matrix \u001b[0m \n",
      "\n"
     ]
    },
    {
     "data": {
      "image/png": "[encoded data removed]",
      "text/plain": [
       "<Figure size 640x480 with 2 Axes>"
      ]
     },
     "metadata": {},
     "output_type": "display_data"
    },
    {
     "name": "stdout",
     "output_type": "stream",
     "text": [
      "######################################################################\n",
      "\n",
      "Model Name: \u001b[1mDecisionTreeClassifier \u001b[0m \n",
      "\n",
      "Evaluation Scores\n",
      "\n",
      "Precision:\u001b[32m \u001b[1m 0.928 \u001b[0m \u001b[0m\n",
      "Recall:\u001b[32m \u001b[1m 0.927 \u001b[0m \u001b[0m\n",
      "Accuracy:\u001b[32m \u001b[1m 0.927 \u001b[0m \u001b[0m\n",
      "F1score:\u001b[32m \u001b[1m 0.926 \u001b[0m \u001b[0m\n",
      "\n",
      "\u001b[1mModel Confusion Matrix \u001b[0m \n",
      "\n"
     ]
    },
    {
     "data": {
      "image/png": "[encoded data removed]",
      "text/plain": [
       "<Figure size 640x480 with 2 Axes>"
      ]
     },
     "metadata": {},
     "output_type": "display_data"
    },
    {
     "name": "stdout",
     "output_type": "stream",
     "text": [
      "######################################################################\n",
      "\n",
      "Model Name: \u001b[1mXGBClassifier \u001b[0m \n",
      "\n",
      "Evaluation Scores\n",
      "\n",
      "Precision:\u001b[32m \u001b[1m 0.930 \u001b[0m \u001b[0m\n",
      "Recall:\u001b[32m \u001b[1m 0.927 \u001b[0m \u001b[0m\n",
      "Accuracy:\u001b[32m \u001b[1m 0.927 \u001b[0m \u001b[0m\n",
      "F1score:\u001b[32m \u001b[1m 0.925 \u001b[0m \u001b[0m\n",
      "\n",
      "\u001b[1mModel Confusion Matrix \u001b[0m \n",
      "\n"
     ]
    },
    {
     "data": {
      "image/png": "[encoded data removed]",
      "text/plain": [
       "<Figure size 640x480 with 2 Axes>"
      ]
     },
     "metadata": {},
     "output_type": "display_data"
    },
    {
     "name": "stdout",
     "output_type": "stream",
     "text": [
      "######################################################################\n",
      "\n",
      "Model Name: \u001b[1mExtraTreesClassifier \u001b[0m \n",
      "\n",
      "Evaluation Scores\n",
      "\n",
      "Precision:\u001b[32m \u001b[1m 0.933 \u001b[0m \u001b[0m\n",
      "Recall:\u001b[32m \u001b[1m 0.932 \u001b[0m \u001b[0m\n",
      "Accuracy:\u001b[32m \u001b[1m 0.932 \u001b[0m \u001b[0m\n",
      "F1score:\u001b[32m \u001b[1m 0.931 \u001b[0m \u001b[0m\n",
      "\n",
      "\u001b[1mModel Confusion Matrix \u001b[0m \n",
      "\n"
     ]
    },
    {
     "data": {
      "image/png": "[encoded data removed]",
      "text/plain": [
       "<Figure size 640x480 with 2 Axes>"
      ]
     },
     "metadata": {},
     "output_type": "display_data"
    },
    {
     "name": "stdout",
     "output_type": "stream",
     "text": [
      "######################################################################\n"
     ]
    }
   ],
   "source": [
    "train_model(model_list)"
   ]
  },
  {
   "cell_type": "code",
   "execution_count": 43,
   "id": "de685595",
   "metadata": {
    "execution": {
     "iopub.execute_input": "2024-04-27T09:33:03.127843Z",
     "iopub.status.busy": "2024-04-27T09:33:03.126880Z",
     "iopub.status.idle": "2024-04-27T09:33:03.545525Z",
     "shell.execute_reply": "2024-04-27T09:33:03.544303Z"
    },
    "papermill": {
     "duration": 0.444688,
     "end_time": "2024-04-27T09:33:03.548449",
     "exception": false,
     "start_time": "2024-04-27T09:33:03.103761",
     "status": "completed"
    },
    "tags": []
   },
   "outputs": [
    {
     "name": "stderr",
     "output_type": "stream",
     "text": [
      "c:\\Python311\\Lib\\site-packages\\seaborn\\_oldcore.py:1765: FutureWarning: unique with argument that is not not a Series, Index, ExtensionArray, or np.ndarray is deprecated and will raise in a future version.\n",
      "  order = pd.unique(vector)\n"
     ]
    },
    {
     "data": {
      "text/plain": [
       "<Axes: >"
      ]
     },
     "execution_count": 43,
     "metadata": {},
     "output_type": "execute_result"
    },
    {
     "data": {
      "image/png": "[encoded data removed]",
      "text/plain": [
       "<Figure size 640x480 with 1 Axes>"
      ]
     },
     "metadata": {},
     "output_type": "display_data"
    }
   ],
   "source": [
    "sns.barplot(x=[\"RandomForest\", \"Decision Tree\", \"XGBoost\", \"ExtraTrees\"], y=f1_scores)"
   ]
  },
  {
   "cell_type": "code",
   "execution_count": 44,
   "id": "a59c224d",
   "metadata": {},
   "outputs": [],
   "source": [
    "import pickle\n",
    "\n",
    "# Create and train the Random Forest classifier\n",
    "model = RandomForestClassifier()\n",
    "model.fit(X_train, y_train)\n",
    "\n",
    "# Save the model to a file\n",
    "with open('random_forest.pkl', 'wb') as file:\n",
    "    pickle.dump(model, file)\n"
   ]
  },
  {
   "cell_type": "code",
   "execution_count": 51,
   "id": "c99639f4",
   "metadata": {},
   "outputs": [],
   "source": [
    "\n",
    "with open('random_forest.pkl', 'rb') as file:\n",
    "    loaded_model = pickle.load(file)\n"
   ]
  },
  {
   "cell_type": "code",
   "execution_count": 53,
   "id": "0ea63e91",
   "metadata": {},
   "outputs": [],
   "source": [
    "\n",
    "\n",
    "def create_features(url):\n",
    "    features = []\n",
    "\n",
    "    # Count occurrences of specific characters in the URL\n",
    "    feature_characters = ['@', '?', '-', '=', '.', '#', '%', '+', '$', '!', '*', ',', '//']\n",
    "    for char in feature_characters:\n",
    "        features.append(url.count(char))\n",
    "\n",
    "    # Check if the URL contains the hostname\n",
    "    hostname = str(urlparse(url).hostname)\n",
    "    match = re.search(hostname, url)\n",
    "    features.append(1 if match else 0)\n",
    "\n",
    "    # Check if the URL uses HTTPS\n",
    "    scheme = urlparse(url).scheme\n",
    "    features.append(1 if scheme == 'https' else 0)\n",
    "\n",
    "    # Count the number of digits in the URL\n",
    "    digits = sum(ch.isdigit() for ch in url)\n",
    "    features.append(digits)\n",
    "\n",
    "    # Count the number of special characters in the URL\n",
    "    special_chars = sum(ch in string.punctuation for ch in url)\n",
    "    features.append(special_chars)\n",
    "\n",
    "    # Count the number of letters in the URL\n",
    "    letters = sum(ch.isalpha() for ch in url)\n",
    "    features.append(letters)\n",
    "\n",
    "    # Check if the URL is shortened\n",
    "    shortened_patterns = ['bit.ly', 'goo.gl', 'tinyurl', 'ow.ly', 't.co']\n",
    "    shortened = any(pattern in url for pattern in shortened_patterns)\n",
    "    features.append(1 if shortened else 0)\n",
    "\n",
    "    # Check if the URL contains an IP address\n",
    "    ip_pattern = r'\\b\\d{1,3}\\.\\d{1,3}\\.\\d{1,3}\\.\\d{1,3}\\b'\n",
    "    contains_ip = bool(re.search(ip_pattern, url))\n",
    "    features.append(1 if contains_ip else 0)\n",
    "\n",
    "    return np.array(features).reshape(1, -1)\n"
   ]
  },
  {
   "cell_type": "code",
   "execution_count": 69,
   "id": "02f6a726",
   "metadata": {},
   "outputs": [
    {
     "name": "stdout",
     "output_type": "stream",
     "text": [
      "Predicted class: [1]\n"
     ]
    },
    {
     "name": "stderr",
     "output_type": "stream",
     "text": [
      "c:\\Python311\\Lib\\site-packages\\sklearn\\base.py:439: UserWarning: X does not have valid feature names, but RandomForestClassifier was fitted with feature names\n",
      "  warnings.warn(\n"
     ]
    }
   ],
   "source": [
    "# Example URL for prediction\n",
    "new_url = \"bopsecrets.org/exroth/cr/1.html\"\n",
    "\n",
    "# Create features from the URL (assuming you have a function for feature extraction)\n",
    "X_new = create_features(new_url)\n",
    "\n",
    "# Make predictions using the loaded model\n",
    "predictions = loaded_model.predict(X_new)\n",
    "\n",
    "# Display the predictions\n",
    "print(\"Predicted class:\", predictions)\n"
   ]
  }
 ],
 "metadata": {
  "kaggle": {
   "accelerator": "none",
   "dataSources": [
    {
     "datasetId": 1486586,
     "sourceId": 2456026,
     "sourceType": "datasetVersion"
    }
   ],
   "dockerImageVersionId": 30698,
   "isGpuEnabled": false,
   "isInternetEnabled": true,
   "language": "python",
   "sourceType": "notebook"
  },
  "kernelspec": {
   "display_name": "Python 3",
   "language": "python",
   "name": "python3"
  },
  "language_info": {
   "codemirror_mode": {
    "name": "ipython",
    "version": 3
   },
   "file_extension": ".py",
   "mimetype": "text/x-python",
   "name": "python",
   "nbconvert_exporter": "python",
   "pygments_lexer": "ipython3",
   "version": "3.11.3"
  },
  "papermill": {
   "default_parameters": {},
   "duration": 472.361068,
   "end_time": "2024-04-27T09:33:05.189630",
   "environment_variables": {},
   "exception": null,
   "input_path": "__notebook__.ipynb",
   "output_path": "__notebook__.ipynb",
   "parameters": {},
   "start_time": "2024-04-27T09:25:12.828562",
   "version": "2.5.0"
  }
 },
 "nbformat": 4,
 "nbformat_minor": 5
}
